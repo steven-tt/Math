{
 "cells": [
  {
   "cell_type": "code",
   "execution_count": 2,
   "metadata": {},
   "outputs": [
    {
     "name": "stdout",
     "output_type": "stream",
     "text": [
      "\n",
      "#### TEST ####\n",
      "[[1, 1, 0], [0, 2, 0], [0, 3, 0]]\n",
      "#### End Test ####\n",
      "\n",
      "Please choose door 1, 2, or 3: 2\n",
      "You have choosen door: 2\n",
      "\n",
      "#### TEST ####\n",
      "[[1, 1, 0], [0, 2, 1], [0, 3, 0]]\n",
      "#### End Test ####\n",
      "\n",
      "Door 3 has a goat behind it. Would you like to switch?\n",
      "Please say yes or no (y/n): y\n",
      "\n",
      "#### TEST ####\n",
      "y\n",
      "#### End Test ####\n",
      "\n"
     ]
    }
   ],
   "source": [
    "#Setup\n",
    "import random\n",
    "\n",
    "test_is_go = True\n",
    "\n",
    "def test(check,thing_to_check):\n",
    "    if check == True:\n",
    "        print(\"\\n#### TEST ####\")\n",
    "        print(thing_to_check)\n",
    "        print(\"#### End Test ####\\n\")\n",
    "\n",
    "doors = [[0,1,0],[0,2,0],[0,3,0]] #[Goat,Door,Choosen]\n",
    "doors[random.randint(0,2)][0] = 1 \n",
    "\n",
    "test(test_is_go,doors)    \n",
    "\n",
    "#Contestent Chooses a door\n",
    "\n",
    "while True:\n",
    "    try:\n",
    "        choice = int(input(\"Please choose door 1, 2, or 3: \"))\n",
    "        if 1<=choice<=3:\n",
    "            doors[choice-1][2] = 1\n",
    "            print(f\"You have choosen door: {choice}\")\n",
    "            break\n",
    "        else:\n",
    "            print(\"You did not choose a valid number\\n\")\n",
    "    except:\n",
    "        print(\"That was not a number\\n\")\n",
    "\n",
    "test(test_is_go, doors)\n",
    "\n",
    "#reveal car\n",
    "        \n",
    "while True:\n",
    "    door = random.choice(doors)\n",
    "    if door[2] != 1 and door[0] !=1: #I want my door to be open and not have a car\n",
    "        print(f\"Door {door[1]} has a goat behind it. Would you like to switch?\")\n",
    "        break\n",
    "        \n",
    "while True:\n",
    "    switch = input(\"Please say yes or no (y/n): \")\n",
    "    if switch == 'y' or switch == 'n':\n",
    "        break\n",
    "    print(\"That was the wrong letter try again\")\n",
    "    \n",
    "test(test_is_go, switch)\n",
    "\n",
    "if switch == 'y':\n",
    "    "
   ]
  },
  {
   "cell_type": "code",
   "execution_count": null,
   "metadata": {},
   "outputs": [],
   "source": []
  }
 ],
 "metadata": {
  "kernelspec": {
   "display_name": "Python 3",
   "language": "python",
   "name": "python3"
  },
  "language_info": {
   "codemirror_mode": {
    "name": "ipython",
    "version": 3
   },
   "file_extension": ".py",
   "mimetype": "text/x-python",
   "name": "python",
   "nbconvert_exporter": "python",
   "pygments_lexer": "ipython3",
   "version": "3.7.0"
  }
 },
 "nbformat": 4,
 "nbformat_minor": 2
}
